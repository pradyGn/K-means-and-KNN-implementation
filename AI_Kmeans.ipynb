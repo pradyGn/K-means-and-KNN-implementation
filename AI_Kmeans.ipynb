{
 "cells": [
  {
   "cell_type": "code",
   "execution_count": 28,
   "id": "a73d69bd",
   "metadata": {},
   "outputs": [],
   "source": [
    "import csv\n",
    "import copy"
   ]
  },
  {
   "cell_type": "code",
   "execution_count": 89,
   "id": "ab81f6a8",
   "metadata": {},
   "outputs": [
    {
     "name": "stdout",
     "output_type": "stream",
     "text": [
      "Enter Centroids Location: 0,0,0 200,200,200 500,500,500\n"
     ]
    }
   ],
   "source": [
    "centroids = input(\"Enter Location of all Centroids: \")"
   ]
  },
  {
   "cell_type": "code",
   "execution_count": 90,
   "id": "df3cfa36",
   "metadata": {},
   "outputs": [
    {
     "name": "stdout",
     "output_type": "stream",
     "text": [
      "Input file name: input.txt\n"
     ]
    }
   ],
   "source": [
    "file_name = input(\"Input file name: \" )"
   ]
  },
  {
   "cell_type": "code",
   "execution_count": 106,
   "id": "135e22c2",
   "metadata": {},
   "outputs": [
    {
     "name": "stdout",
     "output_type": "stream",
     "text": [
      "Enter the dist calculating parameter: manh\n"
     ]
    }
   ],
   "source": [
    "dist_calcu = input(\"Enter the dist calculating parameter: \")\n",
    "if dist_calcu == \"\":\n",
    "    dist_calcu = \"e2\""
   ]
  },
  {
   "cell_type": "code",
   "execution_count": 92,
   "id": "6e07ef35",
   "metadata": {},
   "outputs": [],
   "source": [
    "def read_file(file_name):\n",
    "    if file_name[-3:] == \"csv\":\n",
    "        lines = []\n",
    "        with open('input.csv', newline='') as csvfile:\n",
    "            spamreader = csv.reader(csvfile, delimiter=' ', quotechar='|')\n",
    "            for row in spamreader:\n",
    "                lines.append(', '.join(row))\n",
    "    elif file_name[-3:] == \"txt\":\n",
    "        G = open(file_name,'r')\n",
    "        with open(file_name) as G:\n",
    "            lines = G.readlines()\n",
    "        G.close()\n",
    "    else:\n",
    "        lines = \"Unsupported file format\"\n",
    "        print(\"Unsupported file format\")\n",
    "    return lines"
   ]
  },
  {
   "cell_type": "code",
   "execution_count": 93,
   "id": "9078bd6d",
   "metadata": {},
   "outputs": [],
   "source": [
    "def getspc(l):\n",
    "    spc = []\n",
    "    for j in range(len(l)):\n",
    "        if l[j] == ' ':\n",
    "            spc.append(j)\n",
    "    return spc"
   ]
  },
  {
   "cell_type": "code",
   "execution_count": 94,
   "id": "b8335c28",
   "metadata": {},
   "outputs": [],
   "source": [
    "def getcom(l):\n",
    "    spc = []\n",
    "    for j in range(len(l)):\n",
    "        if l[j] == ',':\n",
    "            spc.append(j)\n",
    "    return spc"
   ]
  },
  {
   "cell_type": "code",
   "execution_count": 95,
   "id": "1d18c7e2",
   "metadata": {},
   "outputs": [],
   "source": [
    "def getcentroids(cent):\n",
    "    spc = getspc(cent)\n",
    "    spc.insert(0, -1)\n",
    "    spc.append(len(cent))\n",
    "    temp = []\n",
    "    for s in range(1, len(spc)):\n",
    "        temp.append(cent[spc[s-1]+1:spc[s]])\n",
    "    \n",
    "    #print(temp)\n",
    "    \n",
    "    centroids = {}\n",
    "    i = 1\n",
    "    for c in temp:\n",
    "        cord = []\n",
    "        com = getcom(c)\n",
    "        com.insert(0, -1)\n",
    "        com.append(len(c))\n",
    "        for loc in range(1, len(com)):\n",
    "            cord.append(float(c[com[loc-1]+1:com[loc]]))\n",
    "        centroids[\"c\" + str(i)] = cord\n",
    "        i += 1\n",
    "    \n",
    "    return centroids"
   ]
  },
  {
   "cell_type": "code",
   "execution_count": 96,
   "id": "4a94a07a",
   "metadata": {},
   "outputs": [],
   "source": [
    "def merge(lst):\n",
    "    ret = []\n",
    "    for l in lst:\n",
    "        ret = ret + l\n",
    "    \n",
    "    return ret"
   ]
  },
  {
   "cell_type": "code",
   "execution_count": 97,
   "id": "929ac769",
   "metadata": {},
   "outputs": [],
   "source": [
    "def rm(var, dic):\n",
    "    for v in dic:\n",
    "        for ele in range(len(dic[v])):\n",
    "            if dic[v][ele] == var:\n",
    "                dic[v].remove(dic[v][ele])\n",
    "                return dic"
   ]
  },
  {
   "cell_type": "code",
   "execution_count": 98,
   "id": "a81356a0",
   "metadata": {},
   "outputs": [],
   "source": [
    "def getdist(p1, p2):\n",
    "    d = 0\n",
    "    for dim in range(len(p1)):\n",
    "        d += (p2[dim]-p1[dim])**2\n",
    "        \n",
    "    return d"
   ]
  },
  {
   "cell_type": "code",
   "execution_count": 99,
   "id": "256aa3fb",
   "metadata": {},
   "outputs": [],
   "source": [
    "def manh(p1, p2):\n",
    "    d = 0\n",
    "    for dim in range(len(p1)):\n",
    "        d += abs(p2[dim]-p1[dim])\n",
    "    return d"
   ]
  },
  {
   "cell_type": "code",
   "execution_count": 100,
   "id": "5c5f067d",
   "metadata": {},
   "outputs": [],
   "source": [
    "def getpoints(lines):\n",
    "    points = {}\n",
    "\n",
    "    for l in lines:\n",
    "        temp = l.replace(\"\\n\", \"\")\n",
    "\n",
    "        com = getcom(temp)\n",
    "        com.insert(0, -1)\n",
    "        com.append(len(temp))\n",
    "\n",
    "        temp_p = []\n",
    "\n",
    "        for pos in range(1, len(com)):\n",
    "            if temp[com[pos-1]+1:com[pos]].isdigit():\n",
    "                temp_p.append(int(temp[com[pos-1]+1:com[pos]]))\n",
    "            else:\n",
    "                temp_p.append(temp[com[pos-1]+1:com[pos]])\n",
    "\n",
    "        #print(temp_p)\n",
    "\n",
    "        points[temp_p[-1]] = temp_p[:-1]\n",
    "\n",
    "    #print(points)\n",
    "    return points"
   ]
  },
  {
   "cell_type": "code",
   "execution_count": 101,
   "id": "3ab9b1f4",
   "metadata": {},
   "outputs": [],
   "source": [
    "def matadd(A, B):\n",
    "    sum_l = []\n",
    "    for i, j in zip(A, B):\n",
    "        sum_l.append(i+j)\n",
    "    return sum_l"
   ]
  },
  {
   "cell_type": "code",
   "execution_count": 102,
   "id": "3e180551",
   "metadata": {},
   "outputs": [],
   "source": [
    "def kmeans(points, centroids, dist_calcu):\n",
    "    point_gang = {}\n",
    "    \n",
    "    for p in points:\n",
    "        mi = [\"\", float(\"inf\")]\n",
    "        for c in centroids:\n",
    "            if dist_calcu == \"manh\":\n",
    "                dist = manh(points[p], centroids[c])\n",
    "            else:\n",
    "                dist = getdist(points[p], centroids[c])\n",
    "            #print(dist)\n",
    "            if dist < mi[1]:\n",
    "                merge_list = []\n",
    "                for l in point_gang:\n",
    "                    merge_list += point_gang[l]\n",
    "                if p not in merge_list:\n",
    "                    if c not in point_gang:\n",
    "                        point_gang[c] = [p]\n",
    "                    else:\n",
    "                        point_gang[c].append(p)\n",
    "                    mi = [c, dist]\n",
    "                    #print(point_gang)\n",
    "                else:\n",
    "                    point_gang[mi[0]].remove(p)\n",
    "                    #print(point_gang)\n",
    "                    if c not in point_gang:\n",
    "                        point_gang[c] = [p]\n",
    "                    else:\n",
    "                        point_gang[c].append(p)\n",
    "                    mi = [c, dist]\n",
    "    \n",
    "    new_cent = {}\n",
    "    for c in point_gang:\n",
    "        if len(point_gang[c]) == 0:\n",
    "            new_cent[c] = cent[c]\n",
    "        else:\n",
    "            track = []\n",
    "            for ps in point_gang[c]:\n",
    "                if len(track) == 0:\n",
    "                    for dim in points[ps]:\n",
    "                        track.append(0)\n",
    "                track = matadd(track, points[ps])\n",
    "            new_cent[c] = [t/len(point_gang[c]) for t in track]\n",
    "    \n",
    "    return new_cent, point_gang"
   ]
  },
  {
   "cell_type": "code",
   "execution_count": 107,
   "id": "111e4ca1",
   "metadata": {},
   "outputs": [],
   "source": [
    "cent = getcentroids(centroids)\n",
    "lines = read_file(file_name)\n",
    "points = getpoints(lines)"
   ]
  },
  {
   "cell_type": "code",
   "execution_count": 110,
   "id": "e78e2648",
   "metadata": {},
   "outputs": [],
   "source": [
    "hmm = 0\n",
    "while hmm != len(cent):\n",
    "    hmm = 0\n",
    "    new_cent, point_gang = kmeans(points, cent, dist_calcu)\n",
    "    for c in cent:\n",
    "        t1 = [round(x, 2) for x in cent[c]]\n",
    "        t2 = [round(y, 2) for y in new_cent[c]]\n",
    "        if t1 == t2:\n",
    "            hmm += 1\n",
    "    cent = copy.deepcopy(new_cent)"
   ]
  },
  {
   "cell_type": "code",
   "execution_count": 111,
   "id": "299290e9",
   "metadata": {},
   "outputs": [
    {
     "name": "stdout",
     "output_type": "stream",
     "text": [
      "{'c1': ['A3', 'A4', 'A7', 'A10', 'A14', 'A15', 'A16', 'A19', 'A21', 'A27', 'A29', 'A30', 'A31', 'A32', 'A38', 'A44', 'A50', 'A53', 'A56', 'A58', 'A59', 'A62', 'A63', 'A64', 'A65', 'A66', 'A70', 'A74', 'A75', 'A76', 'A77', 'A79', 'A83', 'A84', 'A86', 'A88', 'A89', 'A90', 'A95', 'A97'], 'c2': ['A1', 'A2', 'A5', 'A9', 'A12', 'A17', 'A20', 'A22', 'A33', 'A36', 'A37', 'A40', 'A42', 'A43', 'A45', 'A47', 'A48', 'A52', 'A54', 'A60', 'A67', 'A73', 'A78', 'A81', 'A92', 'A96', 'A98', 'A99'], 'c3': ['A6', 'A8', 'A11', 'A13', 'A18', 'A23', 'A24', 'A25', 'A26', 'A28', 'A34', 'A35', 'A39', 'A41', 'A46', 'A49', 'A51', 'A55', 'A57', 'A61', 'A68', 'A69', 'A71', 'A72', 'A80', 'A82', 'A85', 'A87', 'A91', 'A93', 'A94', 'A100']}\n",
      "\n",
      "\n",
      "{'c1': [1040.0, 749.25, 561.875], 'c2': [306.2142857142857, 1284.642857142857, 1166.642857142857], 'c3': [1518.40625, 1235.59375, 1265.34375]}\n"
     ]
    }
   ],
   "source": [
    "print(point_gang)\n",
    "print(\"\\n\")\n",
    "print(cent)"
   ]
  },
  {
   "cell_type": "code",
   "execution_count": null,
   "id": "a20a3e78",
   "metadata": {},
   "outputs": [],
   "source": []
  }
 ],
 "metadata": {
  "kernelspec": {
   "display_name": "Python 3",
   "language": "python",
   "name": "python3"
  },
  "language_info": {
   "codemirror_mode": {
    "name": "ipython",
    "version": 3
   },
   "file_extension": ".py",
   "mimetype": "text/x-python",
   "name": "python",
   "nbconvert_exporter": "python",
   "pygments_lexer": "ipython3",
   "version": "3.8.8"
  }
 },
 "nbformat": 4,
 "nbformat_minor": 5
}
